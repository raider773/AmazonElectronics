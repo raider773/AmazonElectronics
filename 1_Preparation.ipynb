{
 "cells": [
  {
   "cell_type": "markdown",
   "metadata": {},
   "source": [
    "# Amazon Electronics \n",
    "\n",
    "This project is a simple prediction on whether a review is positive or negative one. \\\n",
    "In the first notebook i analyse a little bit the reviews. Just the reviews as this is an NPL problem. \\ \n",
    "I also binarize the problem to two classes, good or bad, instead of 1 to 5 rating as in the original data. \\\n",
    "The data is in json format so i transform it into csv format.\n",
    "\n",
    "\n",
    "In the second notebook i used Multinomial Naive Bayes models to do the predictions as well as transforming the data as needed. \\\n",
    "Finally i deployed the model to flask and test the model with self-made comments"
   ]
  },
  {
   "cell_type": "code",
   "execution_count": 2,
   "metadata": {},
   "outputs": [],
   "source": [
    "#.json to csv\n",
    "import pandas as pd\n",
    "import gzip\n",
    "import json\n",
    "\n",
    "def parse(path):\n",
    "    g = gzip.open(path, 'rb')\n",
    "    for l in g:\n",
    "        yield json.loads(l)\n",
    "\n",
    "def getDF(path):\n",
    "    i = 0\n",
    "    df = {}\n",
    "    for d in parse(path):\n",
    "        df[i] = d\n",
    "        i += 1\n",
    "    return pd.DataFrame.from_dict(df, orient='index')\n",
    "\n",
    "data = getDF('Electronics_5.json.gz')"
   ]
  },
  {
   "cell_type": "code",
   "execution_count": 3,
   "metadata": {},
   "outputs": [],
   "source": [
    "import pandas as pd\n",
    "import numpy as np\n",
    "import seaborn as sns\n",
    "import matplotlib as mpl\n",
    "import matplotlib.pyplot as plt\n",
    "%matplotlib inline\n",
    "import re\n",
    "import math"
   ]
  },
  {
   "cell_type": "code",
   "execution_count": 26,
   "metadata": {},
   "outputs": [
    {
     "data": {
      "text/html": [
       "<div>\n",
       "<style scoped>\n",
       "    .dataframe tbody tr th:only-of-type {\n",
       "        vertical-align: middle;\n",
       "    }\n",
       "\n",
       "    .dataframe tbody tr th {\n",
       "        vertical-align: top;\n",
       "    }\n",
       "\n",
       "    .dataframe thead th {\n",
       "        text-align: right;\n",
       "    }\n",
       "</style>\n",
       "<table border=\"1\" class=\"dataframe\">\n",
       "  <thead>\n",
       "    <tr style=\"text-align: right;\">\n",
       "      <th></th>\n",
       "      <th>overall</th>\n",
       "      <th>verified</th>\n",
       "      <th>reviewText</th>\n",
       "      <th>summary</th>\n",
       "      <th>Binary_Overall</th>\n",
       "    </tr>\n",
       "  </thead>\n",
       "  <tbody>\n",
       "    <tr>\n",
       "      <th>0</th>\n",
       "      <td>5.0</td>\n",
       "      <td>True</td>\n",
       "      <td>This is the best novel I have read in 2 or 3 y...</td>\n",
       "      <td>A star is born</td>\n",
       "      <td>1.0</td>\n",
       "    </tr>\n",
       "    <tr>\n",
       "      <th>1</th>\n",
       "      <td>3.0</td>\n",
       "      <td>True</td>\n",
       "      <td>Pages and pages of introspection, in the style...</td>\n",
       "      <td>A stream of consciousness novel</td>\n",
       "      <td>0.0</td>\n",
       "    </tr>\n",
       "    <tr>\n",
       "      <th>2</th>\n",
       "      <td>5.0</td>\n",
       "      <td>False</td>\n",
       "      <td>This is the kind of novel to read when you hav...</td>\n",
       "      <td>I'm a huge fan of the author and this one did ...</td>\n",
       "      <td>1.0</td>\n",
       "    </tr>\n",
       "    <tr>\n",
       "      <th>3</th>\n",
       "      <td>5.0</td>\n",
       "      <td>False</td>\n",
       "      <td>What gorgeous language! What an incredible wri...</td>\n",
       "      <td>The most beautiful book I have ever read!</td>\n",
       "      <td>1.0</td>\n",
       "    </tr>\n",
       "    <tr>\n",
       "      <th>4</th>\n",
       "      <td>3.0</td>\n",
       "      <td>True</td>\n",
       "      <td>I was taken in by reviews that compared this b...</td>\n",
       "      <td>A dissenting view--In part.</td>\n",
       "      <td>0.0</td>\n",
       "    </tr>\n",
       "  </tbody>\n",
       "</table>\n",
       "</div>"
      ],
      "text/plain": [
       "   overall  verified                                         reviewText  \\\n",
       "0      5.0      True  This is the best novel I have read in 2 or 3 y...   \n",
       "1      3.0      True  Pages and pages of introspection, in the style...   \n",
       "2      5.0     False  This is the kind of novel to read when you hav...   \n",
       "3      5.0     False  What gorgeous language! What an incredible wri...   \n",
       "4      3.0      True  I was taken in by reviews that compared this b...   \n",
       "\n",
       "                                             summary  Binary_Overall  \n",
       "0                                     A star is born             1.0  \n",
       "1                    A stream of consciousness novel             0.0  \n",
       "2  I'm a huge fan of the author and this one did ...             1.0  \n",
       "3          The most beautiful book I have ever read!             1.0  \n",
       "4                        A dissenting view--In part.             0.0  "
      ]
     },
     "execution_count": 26,
     "metadata": {},
     "output_type": "execute_result"
    }
   ],
   "source": [
    "data.head()"
   ]
  },
  {
   "cell_type": "code",
   "execution_count": 27,
   "metadata": {},
   "outputs": [
    {
     "data": {
      "text/plain": [
       "(6737497, 5)"
      ]
     },
     "execution_count": 27,
     "metadata": {},
     "output_type": "execute_result"
    }
   ],
   "source": [
    "data.shape"
   ]
  },
  {
   "cell_type": "markdown",
   "metadata": {},
   "source": [
    "Next i'll drop columns im not using. They provide good information, but i want the problem to be just reviews and target variable.\n",
    "Also there are 6.7 millions observations, so i took 10% of all data as a sample, since my computer can't handle all and i didn't want to use cloud services."
   ]
  },
  {
   "cell_type": "code",
   "execution_count": 5,
   "metadata": {},
   "outputs": [],
   "source": [
    "data.drop(columns = ['reviewTime','reviewerID','asin','style','reviewerName','unixReviewTime','image',\"vote\"],inplace = True)"
   ]
  },
  {
   "cell_type": "code",
   "execution_count": 6,
   "metadata": {},
   "outputs": [
    {
     "data": {
      "text/plain": [
       "overall       0.000000\n",
       "verified      0.000000\n",
       "reviewText    0.000201\n",
       "summary       0.000120\n",
       "dtype: float64"
      ]
     },
     "execution_count": 6,
     "metadata": {},
     "output_type": "execute_result"
    }
   ],
   "source": [
    "data.isnull().sum()/data.shape[0]"
   ]
  },
  {
   "cell_type": "code",
   "execution_count": 7,
   "metadata": {},
   "outputs": [],
   "source": [
    "data.dropna(axis = 0, how='any',inplace=True ) #drop nulls. they are too few"
   ]
  },
  {
   "cell_type": "code",
   "execution_count": 8,
   "metadata": {},
   "outputs": [],
   "source": [
    "sample = data.sample(frac = 0.1 , replace=False, axis=0) # 10% of data"
   ]
  },
  {
   "cell_type": "code",
   "execution_count": 9,
   "metadata": {},
   "outputs": [
    {
     "name": "stdout",
     "output_type": "stream",
     "text": [
      "Data Size:    6737497\n",
      "Sample Size:  673750\n"
     ]
    }
   ],
   "source": [
    "print(\"Data Size:   \" , data.shape[0])\n",
    "print(\"Sample Size: \" , sample.shape[0])"
   ]
  },
  {
   "cell_type": "code",
   "execution_count": 10,
   "metadata": {},
   "outputs": [
    {
     "data": {
      "text/plain": [
       "5.0    432237\n",
       "4.0    113526\n",
       "3.0     50584\n",
       "1.0     46691\n",
       "2.0     30712\n",
       "Name: overall, dtype: int64"
      ]
     },
     "execution_count": 10,
     "metadata": {},
     "output_type": "execute_result"
    }
   ],
   "source": [
    "sample.overall.value_counts() # scores"
   ]
  },
  {
   "cell_type": "code",
   "execution_count": 11,
   "metadata": {},
   "outputs": [
    {
     "data": {
      "text/plain": [
       "True     603589\n",
       "False     70161\n",
       "Name: verified, dtype: int64"
      ]
     },
     "execution_count": 11,
     "metadata": {},
     "output_type": "execute_result"
    }
   ],
   "source": [
    "sample.verified.value_counts()   # verifications"
   ]
  },
  {
   "cell_type": "code",
   "execution_count": 12,
   "metadata": {},
   "outputs": [
    {
     "data": {
      "text/plain": [
       "overall       float64\n",
       "verified         bool\n",
       "reviewText     object\n",
       "summary        object\n",
       "dtype: object"
      ]
     },
     "execution_count": 12,
     "metadata": {},
     "output_type": "execute_result"
    }
   ],
   "source": [
    "sample.dtypes"
   ]
  },
  {
   "cell_type": "code",
   "execution_count": 13,
   "metadata": {},
   "outputs": [
    {
     "data": {
      "text/plain": [
       "Text(0.5, 1.0, 'Distribution of Ratings in Sample')"
      ]
     },
     "execution_count": 13,
     "metadata": {},
     "output_type": "execute_result"
    },
    {
     "data": {
      "image/png": "[encoded data removed]",
      "text/plain": [
       "<Figure size 432x288 with 1 Axes>"
      ]
     },
     "metadata": {
      "needs_background": "light"
     },
     "output_type": "display_data"
    }
   ],
   "source": [
    "sns.countplot(x=\"overall\", data=sample,palette=\"Set1\").set_title(\"Distribution of Ratings in Sample\")"
   ]
  },
  {
   "cell_type": "markdown",
   "metadata": {},
   "source": [
    "Clearly the data is unbalanced. I'll binarize the problem, but still the data will remain unbalanced."
   ]
  },
  {
   "cell_type": "code",
   "execution_count": 14,
   "metadata": {},
   "outputs": [
    {
     "data": {
      "text/plain": [
       "Text(0.5, 1.0, 'Distribution of Verified in Sample')"
      ]
     },
     "execution_count": 14,
     "metadata": {},
     "output_type": "execute_result"
    },
    {
     "data": {
      "image/png": "[encoded data removed]",
      "text/plain": [
       "<Figure size 432x288 with 1 Axes>"
      ]
     },
     "metadata": {
      "needs_background": "light"
     },
     "output_type": "display_data"
    }
   ],
   "source": [
    "sns.countplot(x=\"verified\", data=sample,palette=\"Set1\").set_title(\"Distribution of Verified in Sample\")"
   ]
  },
  {
   "cell_type": "code",
   "execution_count": 15,
   "metadata": {},
   "outputs": [],
   "source": [
    "#show comments on each rating\n",
    "\n",
    "def Show_Comments_Rating(rating,data_local):          \n",
    "    \n",
    "    data_Sample = data_local[data_local.overall == rating]\n",
    "    return data_Sample\n",
    "\n",
    "def Show_verified_ratings(rating,data_local):\n",
    "    \"Returns percentaje of verified observations and dataframe filtered base on provided rating\"\n",
    "    data_comments = Show_Comments_Rating(rating,data_local)\n",
    "    data_verified = round(data_comments.verified.value_counts(normalize = True),2)\n",
    "    return data_comments,data_verified"
   ]
  },
  {
   "cell_type": "code",
   "execution_count": 16,
   "metadata": {},
   "outputs": [
    {
     "name": "stdout",
     "output_type": "stream",
     "text": [
      "True     0.83\n",
      "False    0.17\n",
      "Name: verified, dtype: float64\n"
     ]
    },
    {
     "data": {
      "text/html": [
       "<div>\n",
       "<style scoped>\n",
       "    .dataframe tbody tr th:only-of-type {\n",
       "        vertical-align: middle;\n",
       "    }\n",
       "\n",
       "    .dataframe tbody tr th {\n",
       "        vertical-align: top;\n",
       "    }\n",
       "\n",
       "    .dataframe thead th {\n",
       "        text-align: right;\n",
       "    }\n",
       "</style>\n",
       "<table border=\"1\" class=\"dataframe\">\n",
       "  <thead>\n",
       "    <tr style=\"text-align: right;\">\n",
       "      <th></th>\n",
       "      <th>overall</th>\n",
       "      <th>verified</th>\n",
       "      <th>reviewText</th>\n",
       "      <th>summary</th>\n",
       "    </tr>\n",
       "  </thead>\n",
       "  <tbody>\n",
       "    <tr>\n",
       "      <th>6418094</th>\n",
       "      <td>1.0</td>\n",
       "      <td>True</td>\n",
       "      <td>it always falls off the wrist and won't even h...</td>\n",
       "      <td>it is not safe</td>\n",
       "    </tr>\n",
       "    <tr>\n",
       "      <th>2336538</th>\n",
       "      <td>1.0</td>\n",
       "      <td>True</td>\n",
       "      <td>I didn't get a ticket or anything, but I drove...</td>\n",
       "      <td>Didn't work</td>\n",
       "    </tr>\n",
       "    <tr>\n",
       "      <th>862876</th>\n",
       "      <td>1.0</td>\n",
       "      <td>True</td>\n",
       "      <td>I bought this for a relative. When I received ...</td>\n",
       "      <td>Water?</td>\n",
       "    </tr>\n",
       "  </tbody>\n",
       "</table>\n",
       "</div>"
      ],
      "text/plain": [
       "         overall  verified                                         reviewText  \\\n",
       "6418094      1.0      True  it always falls off the wrist and won't even h...   \n",
       "2336538      1.0      True  I didn't get a ticket or anything, but I drove...   \n",
       "862876       1.0      True  I bought this for a relative. When I received ...   \n",
       "\n",
       "                summary  \n",
       "6418094  it is not safe  \n",
       "2336538     Didn't work  \n",
       "862876           Water?  "
      ]
     },
     "execution_count": 16,
     "metadata": {},
     "output_type": "execute_result"
    }
   ],
   "source": [
    "a,b = Show_verified_ratings(1,sample) \n",
    "print(b)\n",
    "a.head(3)"
   ]
  },
  {
   "cell_type": "code",
   "execution_count": 17,
   "metadata": {},
   "outputs": [
    {
     "name": "stdout",
     "output_type": "stream",
     "text": [
      "True     0.85\n",
      "False    0.15\n",
      "Name: verified, dtype: float64\n"
     ]
    },
    {
     "data": {
      "text/html": [
       "<div>\n",
       "<style scoped>\n",
       "    .dataframe tbody tr th:only-of-type {\n",
       "        vertical-align: middle;\n",
       "    }\n",
       "\n",
       "    .dataframe tbody tr th {\n",
       "        vertical-align: top;\n",
       "    }\n",
       "\n",
       "    .dataframe thead th {\n",
       "        text-align: right;\n",
       "    }\n",
       "</style>\n",
       "<table border=\"1\" class=\"dataframe\">\n",
       "  <thead>\n",
       "    <tr style=\"text-align: right;\">\n",
       "      <th></th>\n",
       "      <th>overall</th>\n",
       "      <th>verified</th>\n",
       "      <th>reviewText</th>\n",
       "      <th>summary</th>\n",
       "    </tr>\n",
       "  </thead>\n",
       "  <tbody>\n",
       "    <tr>\n",
       "      <th>901166</th>\n",
       "      <td>2.0</td>\n",
       "      <td>True</td>\n",
       "      <td>If you like watching jerky grainy video then t...</td>\n",
       "      <td>Functional but needy</td>\n",
       "    </tr>\n",
       "    <tr>\n",
       "      <th>945889</th>\n",
       "      <td>2.0</td>\n",
       "      <td>True</td>\n",
       "      <td>I really needed a flat pack case not an SD car...</td>\n",
       "      <td>Two Stars</td>\n",
       "    </tr>\n",
       "    <tr>\n",
       "      <th>1329178</th>\n",
       "      <td>2.0</td>\n",
       "      <td>True</td>\n",
       "      <td>I share a screen between a laptop and and desk...</td>\n",
       "      <td>Half-Works, at best - use this tip</td>\n",
       "    </tr>\n",
       "  </tbody>\n",
       "</table>\n",
       "</div>"
      ],
      "text/plain": [
       "         overall  verified                                         reviewText  \\\n",
       "901166       2.0      True  If you like watching jerky grainy video then t...   \n",
       "945889       2.0      True  I really needed a flat pack case not an SD car...   \n",
       "1329178      2.0      True  I share a screen between a laptop and and desk...   \n",
       "\n",
       "                                    summary  \n",
       "901166                 Functional but needy  \n",
       "945889                            Two Stars  \n",
       "1329178  Half-Works, at best - use this tip  "
      ]
     },
     "execution_count": 17,
     "metadata": {},
     "output_type": "execute_result"
    }
   ],
   "source": [
    "a,b = Show_verified_ratings(2,sample)\n",
    "print(b)\n",
    "a.head(3)"
   ]
  },
  {
   "cell_type": "code",
   "execution_count": 18,
   "metadata": {},
   "outputs": [
    {
     "name": "stdout",
     "output_type": "stream",
     "text": [
      "True     0.88\n",
      "False    0.12\n",
      "Name: verified, dtype: float64\n"
     ]
    },
    {
     "data": {
      "text/html": [
       "<div>\n",
       "<style scoped>\n",
       "    .dataframe tbody tr th:only-of-type {\n",
       "        vertical-align: middle;\n",
       "    }\n",
       "\n",
       "    .dataframe tbody tr th {\n",
       "        vertical-align: top;\n",
       "    }\n",
       "\n",
       "    .dataframe thead th {\n",
       "        text-align: right;\n",
       "    }\n",
       "</style>\n",
       "<table border=\"1\" class=\"dataframe\">\n",
       "  <thead>\n",
       "    <tr style=\"text-align: right;\">\n",
       "      <th></th>\n",
       "      <th>overall</th>\n",
       "      <th>verified</th>\n",
       "      <th>reviewText</th>\n",
       "      <th>summary</th>\n",
       "    </tr>\n",
       "  </thead>\n",
       "  <tbody>\n",
       "    <tr>\n",
       "      <th>4526201</th>\n",
       "      <td>3.0</td>\n",
       "      <td>True</td>\n",
       "      <td>This product is a good solution for the price ...</td>\n",
       "      <td>good bluetooth solution for the price</td>\n",
       "    </tr>\n",
       "    <tr>\n",
       "      <th>1620417</th>\n",
       "      <td>3.0</td>\n",
       "      <td>True</td>\n",
       "      <td>to confusing to hook up wirelessly!</td>\n",
       "      <td>Three Stars</td>\n",
       "    </tr>\n",
       "    <tr>\n",
       "      <th>1400787</th>\n",
       "      <td>3.0</td>\n",
       "      <td>True</td>\n",
       "      <td>Got this to replace the broken CD/DVD driver i...</td>\n",
       "      <td>It's Okay</td>\n",
       "    </tr>\n",
       "  </tbody>\n",
       "</table>\n",
       "</div>"
      ],
      "text/plain": [
       "         overall  verified                                         reviewText  \\\n",
       "4526201      3.0      True  This product is a good solution for the price ...   \n",
       "1620417      3.0      True                to confusing to hook up wirelessly!   \n",
       "1400787      3.0      True  Got this to replace the broken CD/DVD driver i...   \n",
       "\n",
       "                                       summary  \n",
       "4526201  good bluetooth solution for the price  \n",
       "1620417                            Three Stars  \n",
       "1400787                              It's Okay  "
      ]
     },
     "execution_count": 18,
     "metadata": {},
     "output_type": "execute_result"
    }
   ],
   "source": [
    "a,b = Show_verified_ratings(3,sample) \n",
    "print(b)\n",
    "a.head(3)"
   ]
  },
  {
   "cell_type": "code",
   "execution_count": 19,
   "metadata": {},
   "outputs": [
    {
     "name": "stdout",
     "output_type": "stream",
     "text": [
      "True     0.88\n",
      "False    0.12\n",
      "Name: verified, dtype: float64\n"
     ]
    },
    {
     "data": {
      "text/html": [
       "<div>\n",
       "<style scoped>\n",
       "    .dataframe tbody tr th:only-of-type {\n",
       "        vertical-align: middle;\n",
       "    }\n",
       "\n",
       "    .dataframe tbody tr th {\n",
       "        vertical-align: top;\n",
       "    }\n",
       "\n",
       "    .dataframe thead th {\n",
       "        text-align: right;\n",
       "    }\n",
       "</style>\n",
       "<table border=\"1\" class=\"dataframe\">\n",
       "  <thead>\n",
       "    <tr style=\"text-align: right;\">\n",
       "      <th></th>\n",
       "      <th>overall</th>\n",
       "      <th>verified</th>\n",
       "      <th>reviewText</th>\n",
       "      <th>summary</th>\n",
       "    </tr>\n",
       "  </thead>\n",
       "  <tbody>\n",
       "    <tr>\n",
       "      <th>4938976</th>\n",
       "      <td>4.0</td>\n",
       "      <td>True</td>\n",
       "      <td>Works great, but seems a bit flimsy. Can't com...</td>\n",
       "      <td>Four Stars</td>\n",
       "    </tr>\n",
       "    <tr>\n",
       "      <th>4826973</th>\n",
       "      <td>4.0</td>\n",
       "      <td>False</td>\n",
       "      <td>This is actually really nice. Looks old fashio...</td>\n",
       "      <td>Love it!</td>\n",
       "    </tr>\n",
       "    <tr>\n",
       "      <th>3046058</th>\n",
       "      <td>4.0</td>\n",
       "      <td>True</td>\n",
       "      <td>Large view and small size makes these binocula...</td>\n",
       "      <td>They are easy to adjust and come with lens cov...</td>\n",
       "    </tr>\n",
       "  </tbody>\n",
       "</table>\n",
       "</div>"
      ],
      "text/plain": [
       "         overall  verified                                         reviewText  \\\n",
       "4938976      4.0      True  Works great, but seems a bit flimsy. Can't com...   \n",
       "4826973      4.0     False  This is actually really nice. Looks old fashio...   \n",
       "3046058      4.0      True  Large view and small size makes these binocula...   \n",
       "\n",
       "                                                   summary  \n",
       "4938976                                         Four Stars  \n",
       "4826973                                           Love it!  \n",
       "3046058  They are easy to adjust and come with lens cov...  "
      ]
     },
     "execution_count": 19,
     "metadata": {},
     "output_type": "execute_result"
    }
   ],
   "source": [
    "a,b = Show_verified_ratings(4,sample) \n",
    "print(b)\n",
    "a.head(3)"
   ]
  },
  {
   "cell_type": "code",
   "execution_count": 20,
   "metadata": {},
   "outputs": [
    {
     "name": "stdout",
     "output_type": "stream",
     "text": [
      "True     0.91\n",
      "False    0.09\n",
      "Name: verified, dtype: float64\n"
     ]
    },
    {
     "data": {
      "text/html": [
       "<div>\n",
       "<style scoped>\n",
       "    .dataframe tbody tr th:only-of-type {\n",
       "        vertical-align: middle;\n",
       "    }\n",
       "\n",
       "    .dataframe tbody tr th {\n",
       "        vertical-align: top;\n",
       "    }\n",
       "\n",
       "    .dataframe thead th {\n",
       "        text-align: right;\n",
       "    }\n",
       "</style>\n",
       "<table border=\"1\" class=\"dataframe\">\n",
       "  <thead>\n",
       "    <tr style=\"text-align: right;\">\n",
       "      <th></th>\n",
       "      <th>overall</th>\n",
       "      <th>verified</th>\n",
       "      <th>reviewText</th>\n",
       "      <th>summary</th>\n",
       "    </tr>\n",
       "  </thead>\n",
       "  <tbody>\n",
       "    <tr>\n",
       "      <th>2922662</th>\n",
       "      <td>5.0</td>\n",
       "      <td>True</td>\n",
       "      <td>This machine is not only beautiful and super f...</td>\n",
       "      <td>Beautiful design &amp; no bloatware!</td>\n",
       "    </tr>\n",
       "    <tr>\n",
       "      <th>3311152</th>\n",
       "      <td>5.0</td>\n",
       "      <td>True</td>\n",
       "      <td>100% satisfied with the subwoofer.\\n\\nI was do...</td>\n",
       "      <td>Boom boom pow</td>\n",
       "    </tr>\n",
       "    <tr>\n",
       "      <th>1705027</th>\n",
       "      <td>5.0</td>\n",
       "      <td>True</td>\n",
       "      <td>Unbeatable for 7$ and change. Does what its su...</td>\n",
       "      <td>Cant beat it for the price</td>\n",
       "    </tr>\n",
       "  </tbody>\n",
       "</table>\n",
       "</div>"
      ],
      "text/plain": [
       "         overall  verified                                         reviewText  \\\n",
       "2922662      5.0      True  This machine is not only beautiful and super f...   \n",
       "3311152      5.0      True  100% satisfied with the subwoofer.\\n\\nI was do...   \n",
       "1705027      5.0      True  Unbeatable for 7$ and change. Does what its su...   \n",
       "\n",
       "                                  summary  \n",
       "2922662  Beautiful design & no bloatware!  \n",
       "3311152                     Boom boom pow  \n",
       "1705027        Cant beat it for the price  "
      ]
     },
     "execution_count": 20,
     "metadata": {},
     "output_type": "execute_result"
    }
   ],
   "source": [
    "a,b = Show_verified_ratings(5,sample) \n",
    "print(b)\n",
    "a.head(3)"
   ]
  },
  {
   "cell_type": "markdown",
   "metadata": {},
   "source": [
    "Next i'll binarize the problem. \\\n",
    "If the review has a value of 4 or 5, then is positive. \\\n",
    "If it's lower, then the review is a negative one."
   ]
  },
  {
   "cell_type": "code",
   "execution_count": 21,
   "metadata": {},
   "outputs": [],
   "source": [
    "data[\"Binary_Overall\"] = np.NaN\n",
    "data[\"Binary_Overall\"] = np.where((data.overall == 5) | (data.overall == 4) ,1,data.Binary_Overall)\n",
    "data.Binary_Overall.fillna(0,inplace = True)"
   ]
  },
  {
   "cell_type": "code",
   "execution_count": 22,
   "metadata": {},
   "outputs": [
    {
     "data": {
      "text/html": [
       "<div>\n",
       "<style scoped>\n",
       "    .dataframe tbody tr th:only-of-type {\n",
       "        vertical-align: middle;\n",
       "    }\n",
       "\n",
       "    .dataframe tbody tr th {\n",
       "        vertical-align: top;\n",
       "    }\n",
       "\n",
       "    .dataframe thead th {\n",
       "        text-align: right;\n",
       "    }\n",
       "</style>\n",
       "<table border=\"1\" class=\"dataframe\">\n",
       "  <thead>\n",
       "    <tr style=\"text-align: right;\">\n",
       "      <th></th>\n",
       "      <th>overall</th>\n",
       "      <th>verified</th>\n",
       "      <th>reviewText</th>\n",
       "      <th>summary</th>\n",
       "      <th>Binary_Overall</th>\n",
       "    </tr>\n",
       "  </thead>\n",
       "  <tbody>\n",
       "    <tr>\n",
       "      <th>29</th>\n",
       "      <td>1.0</td>\n",
       "      <td>True</td>\n",
       "      <td>Volume buttons were dead on arrival. be aware ...</td>\n",
       "      <td>One Star</td>\n",
       "      <td>0.0</td>\n",
       "    </tr>\n",
       "    <tr>\n",
       "      <th>55</th>\n",
       "      <td>1.0</td>\n",
       "      <td>True</td>\n",
       "      <td>Works great when I tape up  the plug to the po...</td>\n",
       "      <td>plug falls out</td>\n",
       "      <td>0.0</td>\n",
       "    </tr>\n",
       "    <tr>\n",
       "      <th>56</th>\n",
       "      <td>1.0</td>\n",
       "      <td>True</td>\n",
       "      <td>Did not work. I'm sure the seller knew this be...</td>\n",
       "      <td>Do not buy!</td>\n",
       "      <td>0.0</td>\n",
       "    </tr>\n",
       "  </tbody>\n",
       "</table>\n",
       "</div>"
      ],
      "text/plain": [
       "    overall  verified                                         reviewText  \\\n",
       "29      1.0      True  Volume buttons were dead on arrival. be aware ...   \n",
       "55      1.0      True  Works great when I tape up  the plug to the po...   \n",
       "56      1.0      True  Did not work. I'm sure the seller knew this be...   \n",
       "\n",
       "           summary  Binary_Overall  \n",
       "29        One Star             0.0  \n",
       "55  plug falls out             0.0  \n",
       "56     Do not buy!             0.0  "
      ]
     },
     "execution_count": 22,
     "metadata": {},
     "output_type": "execute_result"
    }
   ],
   "source": [
    "a,b = Show_verified_ratings(1,data) \n",
    "a.head(3)"
   ]
  },
  {
   "cell_type": "code",
   "execution_count": 23,
   "metadata": {},
   "outputs": [
    {
     "data": {
      "text/html": [
       "<div>\n",
       "<style scoped>\n",
       "    .dataframe tbody tr th:only-of-type {\n",
       "        vertical-align: middle;\n",
       "    }\n",
       "\n",
       "    .dataframe tbody tr th {\n",
       "        vertical-align: top;\n",
       "    }\n",
       "\n",
       "    .dataframe thead th {\n",
       "        text-align: right;\n",
       "    }\n",
       "</style>\n",
       "<table border=\"1\" class=\"dataframe\">\n",
       "  <thead>\n",
       "    <tr style=\"text-align: right;\">\n",
       "      <th></th>\n",
       "      <th>overall</th>\n",
       "      <th>verified</th>\n",
       "      <th>reviewText</th>\n",
       "      <th>summary</th>\n",
       "      <th>Binary_Overall</th>\n",
       "    </tr>\n",
       "  </thead>\n",
       "  <tbody>\n",
       "    <tr>\n",
       "      <th>0</th>\n",
       "      <td>5.0</td>\n",
       "      <td>True</td>\n",
       "      <td>This is the best novel I have read in 2 or 3 y...</td>\n",
       "      <td>A star is born</td>\n",
       "      <td>1.0</td>\n",
       "    </tr>\n",
       "    <tr>\n",
       "      <th>2</th>\n",
       "      <td>5.0</td>\n",
       "      <td>False</td>\n",
       "      <td>This is the kind of novel to read when you hav...</td>\n",
       "      <td>I'm a huge fan of the author and this one did ...</td>\n",
       "      <td>1.0</td>\n",
       "    </tr>\n",
       "    <tr>\n",
       "      <th>3</th>\n",
       "      <td>5.0</td>\n",
       "      <td>False</td>\n",
       "      <td>What gorgeous language! What an incredible wri...</td>\n",
       "      <td>The most beautiful book I have ever read!</td>\n",
       "      <td>1.0</td>\n",
       "    </tr>\n",
       "  </tbody>\n",
       "</table>\n",
       "</div>"
      ],
      "text/plain": [
       "   overall  verified                                         reviewText  \\\n",
       "0      5.0      True  This is the best novel I have read in 2 or 3 y...   \n",
       "2      5.0     False  This is the kind of novel to read when you hav...   \n",
       "3      5.0     False  What gorgeous language! What an incredible wri...   \n",
       "\n",
       "                                             summary  Binary_Overall  \n",
       "0                                     A star is born             1.0  \n",
       "2  I'm a huge fan of the author and this one did ...             1.0  \n",
       "3          The most beautiful book I have ever read!             1.0  "
      ]
     },
     "execution_count": 23,
     "metadata": {},
     "output_type": "execute_result"
    }
   ],
   "source": [
    "a,b = Show_verified_ratings(5,data) \n",
    "a.head(3)"
   ]
  },
  {
   "cell_type": "code",
   "execution_count": 24,
   "metadata": {},
   "outputs": [
    {
     "data": {
      "text/plain": [
       "Text(0.5, 1.0, 'Distribution of Positive and negatives reviews in data')"
      ]
     },
     "execution_count": 24,
     "metadata": {},
     "output_type": "execute_result"
    },
    {
     "data": {
      "image/png": "[encoded data removed]",
      "text/plain": [
       "<Figure size 432x288 with 1 Axes>"
      ]
     },
     "metadata": {
      "needs_background": "light"
     },
     "output_type": "display_data"
    }
   ],
   "source": [
    "sns.countplot(x=\"Binary_Overall\", data=data,palette=\"Set1\",hue = \"verified\").set_title(\"Distribution of Positive and negatives reviews in data\")"
   ]
  },
  {
   "cell_type": "markdown",
   "metadata": {},
   "source": [
    "Verified people tend to give better reviews. \\\n",
    "Unbalanced classes"
   ]
  },
  {
   "cell_type": "code",
   "execution_count": 25,
   "metadata": {},
   "outputs": [],
   "source": [
    "#import the csv\n",
    "data.to_csv(\"Data.csv\")"
   ]
  }
 ],
 "metadata": {
  "kernelspec": {
   "display_name": "Python 3",
   "language": "python",
   "name": "python3"
  },
  "language_info": {
   "codemirror_mode": {
    "name": "ipython",
    "version": 3
   },
   "file_extension": ".py",
   "mimetype": "text/x-python",
   "name": "python",
   "nbconvert_exporter": "python",
   "pygments_lexer": "ipython3",
   "version": "3.7.10"
  }
 },
 "nbformat": 4,
 "nbformat_minor": 4
}
