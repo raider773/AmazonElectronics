{
 "cells": [
  {
   "cell_type": "markdown",
   "metadata": {},
   "source": [
    "### Models\n",
    "\n",
    "In the first section i used undersampling to fix the unbalanced issue. \\\n",
    "I undersample only the training set so i can validate my model with data that resembles real world data. \\\n",
    "In the second section i trained the Naive Bayes Model. \\\n",
    "Lastly i tried some self-made comments to see probabilities"
   ]
  },
  {
   "cell_type": "code",
   "execution_count": 1,
   "metadata": {},
   "outputs": [],
   "source": [
    "import pandas as pd\n",
    "import numpy as np\n",
    "import seaborn as sns\n",
    "import matplotlib as mpl\n",
    "import matplotlib.pyplot as plt\n",
    "%matplotlib inline\n",
    "import re\n",
    "import math"
   ]
  },
  {
   "cell_type": "code",
   "execution_count": 2,
   "metadata": {},
   "outputs": [],
   "source": [
    "from sklearn.feature_extraction.text import TfidfVectorizer\n",
    "from sklearn.model_selection import train_test_split,GridSearchCV,StratifiedKFold\n",
    "import pickle"
   ]
  },
  {
   "cell_type": "code",
   "execution_count": 3,
   "metadata": {},
   "outputs": [
    {
     "data": {
      "text/html": [
       "<div>\n",
       "<style scoped>\n",
       "    .dataframe tbody tr th:only-of-type {\n",
       "        vertical-align: middle;\n",
       "    }\n",
       "\n",
       "    .dataframe tbody tr th {\n",
       "        vertical-align: top;\n",
       "    }\n",
       "\n",
       "    .dataframe thead th {\n",
       "        text-align: right;\n",
       "    }\n",
       "</style>\n",
       "<table border=\"1\" class=\"dataframe\">\n",
       "  <thead>\n",
       "    <tr style=\"text-align: right;\">\n",
       "      <th></th>\n",
       "      <th>Unnamed: 0</th>\n",
       "      <th>overall</th>\n",
       "      <th>verified</th>\n",
       "      <th>reviewText</th>\n",
       "      <th>summary</th>\n",
       "      <th>Binary_Overall</th>\n",
       "    </tr>\n",
       "  </thead>\n",
       "  <tbody>\n",
       "    <tr>\n",
       "      <th>0</th>\n",
       "      <td>0</td>\n",
       "      <td>5.0</td>\n",
       "      <td>True</td>\n",
       "      <td>This is the best novel I have read in 2 or 3 y...</td>\n",
       "      <td>A star is born</td>\n",
       "      <td>1.0</td>\n",
       "    </tr>\n",
       "    <tr>\n",
       "      <th>1</th>\n",
       "      <td>1</td>\n",
       "      <td>3.0</td>\n",
       "      <td>True</td>\n",
       "      <td>Pages and pages of introspection, in the style...</td>\n",
       "      <td>A stream of consciousness novel</td>\n",
       "      <td>0.0</td>\n",
       "    </tr>\n",
       "    <tr>\n",
       "      <th>2</th>\n",
       "      <td>2</td>\n",
       "      <td>5.0</td>\n",
       "      <td>False</td>\n",
       "      <td>This is the kind of novel to read when you hav...</td>\n",
       "      <td>I'm a huge fan of the author and this one did ...</td>\n",
       "      <td>1.0</td>\n",
       "    </tr>\n",
       "    <tr>\n",
       "      <th>3</th>\n",
       "      <td>3</td>\n",
       "      <td>5.0</td>\n",
       "      <td>False</td>\n",
       "      <td>What gorgeous language! What an incredible wri...</td>\n",
       "      <td>The most beautiful book I have ever read!</td>\n",
       "      <td>1.0</td>\n",
       "    </tr>\n",
       "    <tr>\n",
       "      <th>4</th>\n",
       "      <td>4</td>\n",
       "      <td>3.0</td>\n",
       "      <td>True</td>\n",
       "      <td>I was taken in by reviews that compared this b...</td>\n",
       "      <td>A dissenting view--In part.</td>\n",
       "      <td>0.0</td>\n",
       "    </tr>\n",
       "    <tr>\n",
       "      <th>5</th>\n",
       "      <td>5</td>\n",
       "      <td>4.0</td>\n",
       "      <td>True</td>\n",
       "      <td>I read this probably 50 years ago in my youth ...</td>\n",
       "      <td>Above average mystery</td>\n",
       "      <td>1.0</td>\n",
       "    </tr>\n",
       "    <tr>\n",
       "      <th>6</th>\n",
       "      <td>6</td>\n",
       "      <td>5.0</td>\n",
       "      <td>True</td>\n",
       "      <td>I read every Perry mason book voraciously. Fin...</td>\n",
       "      <td>Lam is cool!</td>\n",
       "      <td>1.0</td>\n",
       "    </tr>\n",
       "    <tr>\n",
       "      <th>7</th>\n",
       "      <td>7</td>\n",
       "      <td>5.0</td>\n",
       "      <td>True</td>\n",
       "      <td>I love this series of Bertha and Lamb..  Great...</td>\n",
       "      <td>Five Stars</td>\n",
       "      <td>1.0</td>\n",
       "    </tr>\n",
       "    <tr>\n",
       "      <th>8</th>\n",
       "      <td>8</td>\n",
       "      <td>5.0</td>\n",
       "      <td>True</td>\n",
       "      <td>Great read!</td>\n",
       "      <td>Five Stars</td>\n",
       "      <td>1.0</td>\n",
       "    </tr>\n",
       "    <tr>\n",
       "      <th>9</th>\n",
       "      <td>9</td>\n",
       "      <td>4.0</td>\n",
       "      <td>False</td>\n",
       "      <td>Crows Can't Count, A.A. Fair\\n\\nMr. Harry Shar...</td>\n",
       "      <td>A Fast and Far Moving Adventure</td>\n",
       "      <td>1.0</td>\n",
       "    </tr>\n",
       "  </tbody>\n",
       "</table>\n",
       "</div>"
      ],
      "text/plain": [
       "   Unnamed: 0  overall  verified  \\\n",
       "0           0      5.0      True   \n",
       "1           1      3.0      True   \n",
       "2           2      5.0     False   \n",
       "3           3      5.0     False   \n",
       "4           4      3.0      True   \n",
       "5           5      4.0      True   \n",
       "6           6      5.0      True   \n",
       "7           7      5.0      True   \n",
       "8           8      5.0      True   \n",
       "9           9      4.0     False   \n",
       "\n",
       "                                          reviewText  \\\n",
       "0  This is the best novel I have read in 2 or 3 y...   \n",
       "1  Pages and pages of introspection, in the style...   \n",
       "2  This is the kind of novel to read when you hav...   \n",
       "3  What gorgeous language! What an incredible wri...   \n",
       "4  I was taken in by reviews that compared this b...   \n",
       "5  I read this probably 50 years ago in my youth ...   \n",
       "6  I read every Perry mason book voraciously. Fin...   \n",
       "7  I love this series of Bertha and Lamb..  Great...   \n",
       "8                                        Great read!   \n",
       "9  Crows Can't Count, A.A. Fair\\n\\nMr. Harry Shar...   \n",
       "\n",
       "                                             summary  Binary_Overall  \n",
       "0                                     A star is born             1.0  \n",
       "1                    A stream of consciousness novel             0.0  \n",
       "2  I'm a huge fan of the author and this one did ...             1.0  \n",
       "3          The most beautiful book I have ever read!             1.0  \n",
       "4                        A dissenting view--In part.             0.0  \n",
       "5                              Above average mystery             1.0  \n",
       "6                                       Lam is cool!             1.0  \n",
       "7                                         Five Stars             1.0  \n",
       "8                                         Five Stars             1.0  \n",
       "9                    A Fast and Far Moving Adventure             1.0  "
      ]
     },
     "execution_count": 3,
     "metadata": {},
     "output_type": "execute_result"
    }
   ],
   "source": [
    "data = pd.read_csv(\"Data.csv\")\n",
    "data.head(10)"
   ]
  },
  {
   "cell_type": "code",
   "execution_count": 4,
   "metadata": {},
   "outputs": [
    {
     "data": {
      "text/html": [
       "<div>\n",
       "<style scoped>\n",
       "    .dataframe tbody tr th:only-of-type {\n",
       "        vertical-align: middle;\n",
       "    }\n",
       "\n",
       "    .dataframe tbody tr th {\n",
       "        vertical-align: top;\n",
       "    }\n",
       "\n",
       "    .dataframe thead th {\n",
       "        text-align: right;\n",
       "    }\n",
       "</style>\n",
       "<table border=\"1\" class=\"dataframe\">\n",
       "  <thead>\n",
       "    <tr style=\"text-align: right;\">\n",
       "      <th></th>\n",
       "      <th>Unnamed: 0</th>\n",
       "      <th>overall</th>\n",
       "      <th>verified</th>\n",
       "      <th>reviewText</th>\n",
       "      <th>summary</th>\n",
       "      <th>Binary_Overall</th>\n",
       "    </tr>\n",
       "  </thead>\n",
       "  <tbody>\n",
       "    <tr>\n",
       "      <th>2436804</th>\n",
       "      <td>2437241</td>\n",
       "      <td>3.0</td>\n",
       "      <td>True</td>\n",
       "      <td>The Taotronics system works great. It paired a...</td>\n",
       "      <td>Less than expected</td>\n",
       "      <td>0.0</td>\n",
       "    </tr>\n",
       "    <tr>\n",
       "      <th>1920593</th>\n",
       "      <td>1920927</td>\n",
       "      <td>5.0</td>\n",
       "      <td>False</td>\n",
       "      <td>Working good,\\nThanks</td>\n",
       "      <td>Five Stars</td>\n",
       "      <td>1.0</td>\n",
       "    </tr>\n",
       "    <tr>\n",
       "      <th>1039206</th>\n",
       "      <td>1039384</td>\n",
       "      <td>5.0</td>\n",
       "      <td>True</td>\n",
       "      <td>Worked fine.</td>\n",
       "      <td>Cheap and works fine</td>\n",
       "      <td>1.0</td>\n",
       "    </tr>\n",
       "    <tr>\n",
       "      <th>5322231</th>\n",
       "      <td>5323644</td>\n",
       "      <td>5.0</td>\n",
       "      <td>True</td>\n",
       "      <td>GREAT--WOULD LIKE TO HAVE ANOTHER</td>\n",
       "      <td>Five Stars</td>\n",
       "      <td>1.0</td>\n",
       "    </tr>\n",
       "    <tr>\n",
       "      <th>2638961</th>\n",
       "      <td>2639441</td>\n",
       "      <td>5.0</td>\n",
       "      <td>True</td>\n",
       "      <td>this product is all it made out to be and more...</td>\n",
       "      <td>execellent</td>\n",
       "      <td>1.0</td>\n",
       "    </tr>\n",
       "    <tr>\n",
       "      <th>...</th>\n",
       "      <td>...</td>\n",
       "      <td>...</td>\n",
       "      <td>...</td>\n",
       "      <td>...</td>\n",
       "      <td>...</td>\n",
       "      <td>...</td>\n",
       "    </tr>\n",
       "    <tr>\n",
       "      <th>1777054</th>\n",
       "      <td>1777348</td>\n",
       "      <td>5.0</td>\n",
       "      <td>True</td>\n",
       "      <td>Nice pigtails worked out real well</td>\n",
       "      <td>Good stuff</td>\n",
       "      <td>1.0</td>\n",
       "    </tr>\n",
       "    <tr>\n",
       "      <th>6395290</th>\n",
       "      <td>6397164</td>\n",
       "      <td>3.0</td>\n",
       "      <td>False</td>\n",
       "      <td>Zmodo no longer offers phone technical support...</td>\n",
       "      <td>Zmodo no longer offers phone technical support</td>\n",
       "      <td>0.0</td>\n",
       "    </tr>\n",
       "    <tr>\n",
       "      <th>4753447</th>\n",
       "      <td>4754606</td>\n",
       "      <td>5.0</td>\n",
       "      <td>True</td>\n",
       "      <td>I'm glad to finally have a case that won't fal...</td>\n",
       "      <td>Perfect!  Deep grooves.</td>\n",
       "      <td>1.0</td>\n",
       "    </tr>\n",
       "    <tr>\n",
       "      <th>372805</th>\n",
       "      <td>372873</td>\n",
       "      <td>5.0</td>\n",
       "      <td>True</td>\n",
       "      <td>When the guys at Besbuy tell you that to repla...</td>\n",
       "      <td>Inexpensive, not Cheap</td>\n",
       "      <td>1.0</td>\n",
       "    </tr>\n",
       "    <tr>\n",
       "      <th>2208766</th>\n",
       "      <td>2209157</td>\n",
       "      <td>5.0</td>\n",
       "      <td>True</td>\n",
       "      <td>love this small size for music in my truck!</td>\n",
       "      <td>Five Stars</td>\n",
       "      <td>1.0</td>\n",
       "    </tr>\n",
       "  </tbody>\n",
       "</table>\n",
       "<p>100000 rows × 6 columns</p>\n",
       "</div>"
      ],
      "text/plain": [
       "         Unnamed: 0  overall  verified  \\\n",
       "2436804     2437241      3.0      True   \n",
       "1920593     1920927      5.0     False   \n",
       "1039206     1039384      5.0      True   \n",
       "5322231     5323644      5.0      True   \n",
       "2638961     2639441      5.0      True   \n",
       "...             ...      ...       ...   \n",
       "1777054     1777348      5.0      True   \n",
       "6395290     6397164      3.0     False   \n",
       "4753447     4754606      5.0      True   \n",
       "372805       372873      5.0      True   \n",
       "2208766     2209157      5.0      True   \n",
       "\n",
       "                                                reviewText  \\\n",
       "2436804  The Taotronics system works great. It paired a...   \n",
       "1920593                              Working good,\\nThanks   \n",
       "1039206                                       Worked fine.   \n",
       "5322231                  GREAT--WOULD LIKE TO HAVE ANOTHER   \n",
       "2638961  this product is all it made out to be and more...   \n",
       "...                                                    ...   \n",
       "1777054                 Nice pigtails worked out real well   \n",
       "6395290  Zmodo no longer offers phone technical support...   \n",
       "4753447  I'm glad to finally have a case that won't fal...   \n",
       "372805   When the guys at Besbuy tell you that to repla...   \n",
       "2208766        love this small size for music in my truck!   \n",
       "\n",
       "                                                summary  Binary_Overall  \n",
       "2436804                              Less than expected             0.0  \n",
       "1920593                                      Five Stars             1.0  \n",
       "1039206                            Cheap and works fine             1.0  \n",
       "5322231                                      Five Stars             1.0  \n",
       "2638961                                      execellent             1.0  \n",
       "...                                                 ...             ...  \n",
       "1777054                                      Good stuff             1.0  \n",
       "6395290  Zmodo no longer offers phone technical support             0.0  \n",
       "4753447                         Perfect!  Deep grooves.             1.0  \n",
       "372805                           Inexpensive, not Cheap             1.0  \n",
       "2208766                                      Five Stars             1.0  \n",
       "\n",
       "[100000 rows x 6 columns]"
      ]
     },
     "execution_count": 4,
     "metadata": {},
     "output_type": "execute_result"
    }
   ],
   "source": [
    "data = data.sample(100000)\n",
    "data"
   ]
  },
  {
   "cell_type": "code",
   "execution_count": 5,
   "metadata": {},
   "outputs": [
    {
     "data": {
      "text/plain": [
       "1.0    81051\n",
       "0.0    18949\n",
       "Name: Binary_Overall, dtype: int64"
      ]
     },
     "execution_count": 5,
     "metadata": {},
     "output_type": "execute_result"
    }
   ],
   "source": [
    "data.Binary_Overall.value_counts()"
   ]
  },
  {
   "cell_type": "code",
   "execution_count": 6,
   "metadata": {},
   "outputs": [],
   "source": [
    "import nltk"
   ]
  },
  {
   "cell_type": "code",
   "execution_count": 7,
   "metadata": {},
   "outputs": [],
   "source": [
    "X = data.reviewText\n",
    "Y = data.Binary_Overall"
   ]
  },
  {
   "cell_type": "code",
   "execution_count": 8,
   "metadata": {},
   "outputs": [],
   "source": [
    "X = X.replace(r\"\\n\", ' ', regex = True)"
   ]
  },
  {
   "cell_type": "code",
   "execution_count": 9,
   "metadata": {},
   "outputs": [
    {
     "name": "stdout",
     "output_type": "stream",
     "text": [
      "train size: 75000\n",
      "test size: 25000\n"
     ]
    }
   ],
   "source": [
    "xtrain,xtest,y_train,y_test=train_test_split(X,Y); \n",
    "print('train size:',len(xtrain))\n",
    "print('test size:',len(xtest))"
   ]
  },
  {
   "cell_type": "code",
   "execution_count": 10,
   "metadata": {},
   "outputs": [
    {
     "name": "stdout",
     "output_type": "stream",
     "text": [
      "Composición del training set:\n",
      "0.0    14188\n",
      "1.0    14188\n",
      "Name: Binary_Overall, dtype: int64\n",
      "\n",
      "Composición del test set:\n",
      "1.0    20239\n",
      "0.0     4761\n",
      "Name: Binary_Overall, dtype: int64\n"
     ]
    }
   ],
   "source": [
    "from imblearn.under_sampling import RandomUnderSampler\n",
    "\n",
    "undersampler=RandomUnderSampler(sampling_strategy='majority');\n",
    "\n",
    "X_train_us,y_train_us=undersampler.fit_resample(xtrain.values.reshape(-1, 1),y_train);\n",
    "\n",
    "print('Composición del training set:')\n",
    "print(y_train_us.value_counts())\n",
    "\n",
    "print('\\nComposición del test set:')\n",
    "print(y_test.value_counts())"
   ]
  },
  {
   "cell_type": "markdown",
   "metadata": {},
   "source": [
    "-------------------------------------"
   ]
  },
  {
   "cell_type": "code",
   "execution_count": 11,
   "metadata": {},
   "outputs": [],
   "source": [
    "from nltk.corpus import stopwords \n",
    "stop_words=stopwords.words('english');"
   ]
  },
  {
   "cell_type": "code",
   "execution_count": 12,
   "metadata": {},
   "outputs": [
    {
     "name": "stdout",
     "output_type": "stream",
     "text": [
      "best score: 0.7605022895691884\n",
      "best params: {'classifier__alpha': 0.5, 'vect__max_df': 100, 'vect__ngram_range': (1, 2)}\n"
     ]
    }
   ],
   "source": [
    "# modelo con vectorizer\n",
    "\n",
    "from sklearn.pipeline import Pipeline\n",
    "from sklearn.naive_bayes import MultinomialNB\n",
    "\n",
    "vectorizer=TfidfVectorizer(stop_words=stop_words,strip_accents='unicode')\n",
    "\n",
    "model=Pipeline([('vect',vectorizer),('classifier',MultinomialNB())])\n",
    "\n",
    "params={'classifier__alpha':[0.1,0.5,1],'vect__max_df':[1,100],'vect__ngram_range':[(1,2),(2,2),(1,1)]}\n",
    "\n",
    "GS_CV=GridSearchCV(model,params,cv=5,n_jobs=-1)\n",
    "\n",
    "GS_CV.fit(X_train_us.ravel(), y_train_us);\n",
    "\n",
    "print('best score:',GS_CV.best_score_)\n",
    "print('best params:',GS_CV.best_params_)"
   ]
  },
  {
   "cell_type": "code",
   "execution_count": 13,
   "metadata": {},
   "outputs": [
    {
     "name": "stdout",
     "output_type": "stream",
     "text": [
      "Accuracy score in test:  0.69944\n"
     ]
    }
   ],
   "source": [
    "from sklearn.metrics import accuracy_score\n",
    "pred = GS_CV.predict(xtest.values.astype(\"U\"))\n",
    "print ( 'Accuracy score in test: ', accuracy_score(y_test,pred))"
   ]
  },
  {
   "cell_type": "code",
   "execution_count": 14,
   "metadata": {},
   "outputs": [
    {
     "data": {
      "text/plain": [
       "array([[ 4047,   714],\n",
       "       [ 6800, 13439]], dtype=int64)"
      ]
     },
     "execution_count": 14,
     "metadata": {},
     "output_type": "execute_result"
    }
   ],
   "source": [
    "from sklearn.metrics import confusion_matrix,f1_score\n",
    "confusion_matrix(y_test,pred)"
   ]
  },
  {
   "cell_type": "code",
   "execution_count": 15,
   "metadata": {},
   "outputs": [
    {
     "data": {
      "text/plain": [
       "0.7815189578971854"
      ]
     },
     "execution_count": 15,
     "metadata": {},
     "output_type": "execute_result"
    }
   ],
   "source": [
    "f1_score(y_test, pred)                         "
   ]
  },
  {
   "cell_type": "markdown",
   "metadata": {},
   "source": [
    "----------------------"
   ]
  },
  {
   "cell_type": "code",
   "execution_count": 39,
   "metadata": {},
   "outputs": [
    {
     "name": "stdout",
     "output_type": "stream",
     "text": [
      "Comentario: ['Could be better'] \n",
      "\n",
      "overall: [1.]\n",
      " proba: 0.5556632480809894\n"
     ]
    }
   ],
   "source": [
    "texto_prueba=['Could be better']\n",
    "k = GS_CV.predict(texto_prueba)\n",
    "print('Comentario:',texto_prueba,'\\n')\n",
    "print(\"overall:\" , k)\n",
    "print(' proba:',GS_CV.predict_proba(texto_prueba).max())"
   ]
  },
  {
   "cell_type": "code",
   "execution_count": 40,
   "metadata": {},
   "outputs": [
    {
     "name": "stdout",
     "output_type": "stream",
     "text": [
      "Comentario: ['awsome'] \n",
      "\n",
      "overall: [1.]\n",
      " proba: 0.6989922812752908\n"
     ]
    }
   ],
   "source": [
    "texto_prueba=['awsome']\n",
    "k = GS_CV.predict(texto_prueba)\n",
    "print('Comentario:',texto_prueba,'\\n')\n",
    "print(\"overall:\" , k)\n",
    "print(' proba:',GS_CV.predict_proba(texto_prueba).max())"
   ]
  },
  {
   "cell_type": "code",
   "execution_count": 41,
   "metadata": {},
   "outputs": [],
   "source": [
    "import pickle\n",
    "with open('model_binary.pkl', 'wb') as f_model:\n",
    "    pickle.dump(GS_CV, f_model)"
   ]
  }
 ],
 "metadata": {
  "kernelspec": {
   "display_name": "Python 3",
   "language": "python",
   "name": "python3"
  },
  "language_info": {
   "codemirror_mode": {
    "name": "ipython",
    "version": 3
   },
   "file_extension": ".py",
   "mimetype": "text/x-python",
   "name": "python",
   "nbconvert_exporter": "python",
   "pygments_lexer": "ipython3",
   "version": "3.7.10"
  }
 },
 "nbformat": 4,
 "nbformat_minor": 4
}
