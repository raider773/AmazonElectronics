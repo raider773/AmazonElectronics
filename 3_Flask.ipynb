{
 "cells": [
  {
   "cell_type": "code",
   "execution_count": 1,
   "metadata": {},
   "outputs": [],
   "source": [
    "import pandas as pd\n",
    "import numpy as np\n",
    "import json\n",
    "import pickle\n",
    "from flask import  Flask, request, jsonify, render_template"
   ]
  },
  {
   "cell_type": "code",
   "execution_count": 2,
   "metadata": {},
   "outputs": [],
   "source": [
    "app = Flask('Sentiment_Analysis')"
   ]
  },
  {
   "cell_type": "code",
   "execution_count": 3,
   "metadata": {},
   "outputs": [],
   "source": [
    "\n",
    "@app.route('/api',methods=['POST'])\n",
    "def predict_post():\n",
    "   \n",
    "    data = request.get_json(force=True)\n",
    "    \n",
    "    with open('model_binary.pkl', 'rb') as f_model:\n",
    "        modelo = pickle.load(f_model)        \n",
    "        m = modelo\n",
    "        \n",
    "           \n",
    "    predictions = m.predict(data['review'])    \n",
    "    \n",
    "    \n",
    "    return str(int(predictions[0]))"
   ]
  },
  {
   "cell_type": "code",
   "execution_count": null,
   "metadata": {},
   "outputs": [
    {
     "name": "stdout",
     "output_type": "stream",
     "text": [
      " * Serving Flask app \"Sentiment_Analysis\" (lazy loading)\n",
      " * Environment: production\n",
      "   WARNING: This is a development server. Do not use it in a production deployment.\n",
      "   Use a production WSGI server instead.\n",
      " * Debug mode: off\n"
     ]
    },
    {
     "name": "stderr",
     "output_type": "stream",
     "text": [
      " * Running on http://0.0.0.0:5000/ (Press CTRL+C to quit)\n",
      "127.0.0.1 - - [18/May/2021 22:14:49] \"\u001b[37mPOST /api HTTP/1.1\u001b[0m\" 200 -\n",
      "127.0.0.1 - - [18/May/2021 22:14:51] \"\u001b[37mPOST /api HTTP/1.1\u001b[0m\" 200 -\n",
      "127.0.0.1 - - [18/May/2021 22:14:53] \"\u001b[37mPOST /api HTTP/1.1\u001b[0m\" 200 -\n"
     ]
    }
   ],
   "source": [
    "app.run(host='0.0.0.0')"
   ]
  }
 ],
 "metadata": {
  "kernelspec": {
   "display_name": "Python 3",
   "language": "python",
   "name": "python3"
  },
  "language_info": {
   "codemirror_mode": {
    "name": "ipython",
    "version": 3
   },
   "file_extension": ".py",
   "mimetype": "text/x-python",
   "name": "python",
   "nbconvert_exporter": "python",
   "pygments_lexer": "ipython3",
   "version": "3.7.10"
  }
 },
 "nbformat": 4,
 "nbformat_minor": 4
}
